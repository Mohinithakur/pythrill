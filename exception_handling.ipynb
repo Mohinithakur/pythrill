{
 "cells": [
  {
   "cell_type": "code",
   "execution_count": null,
   "metadata": {},
   "outputs": [],
   "source": [
    "import pyttsx3\n",
    "try:\n",
    "    n1=input(\"enter a number: \")\n",
    "    n2 = input(\"enter 2nd number: \")                                 \n",
    "\n",
    "    sum = int(n1)+int(n2)\n",
    "    div = int(n1)/int(n2)\n",
    "    print(\"sum: \",sum)\n",
    "    print(\"Division: \",div)\n",
    "\n",
    "except (NameError,ValueError):\n",
    "    print(\"plzz type only number\")\n",
    "    s = pyttsx3.init()\n",
    "   \n",
    "    s.say(\"plzz type only number\")\n",
    "    s.runAndWait()\n",
    "    \n",
    "except ZeroDivisionerror:                                            #else  can be used with \n",
    "    s = pyttsx3.init()\n",
    "    \n",
    "    s.say(\"tere bas ka nahi h\")\n",
    "    s.runAndWait()\n",
    "    \n",
    "except :\n",
    "    print(\"may be u need to learn some maths first\")\n",
    "    \n",
    "finally :                                                             #will always run either u have exception or not\n",
    "    print(\"Good Job\")"
   ]
  },
  {
   "cell_type": "code",
   "execution_count": null,
   "metadata": {},
   "outputs": [],
   "source": []
  },
  {
   "cell_type": "code",
   "execution_count": null,
   "metadata": {},
   "outputs": [],
   "source": []
  }
 ],
 "metadata": {
  "kernelspec": {
   "display_name": "Python 3",
   "language": "python",
   "name": "python3"
  },
  "language_info": {
   "codemirror_mode": {
    "name": "ipython",
    "version": 3
   },
   "file_extension": ".py",
   "mimetype": "text/x-python",
   "name": "python",
   "nbconvert_exporter": "python",
   "pygments_lexer": "ipython3",
   "version": "3.7.3"
  }
 },
 "nbformat": 4,
 "nbformat_minor": 2
}
