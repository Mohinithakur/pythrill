{
  "nbformat": 4,
  "nbformat_minor": 0,
  "metadata": {
    "colab": {
      "name": "function.ipynb",
      "provenance": [],
      "collapsed_sections": [],
      "include_colab_link": true
    },
    "kernelspec": {
      "name": "python3",
      "display_name": "Python 3"
    }
  },
  "cells": [
    {
      "cell_type": "markdown",
      "metadata": {
        "id": "view-in-github",
        "colab_type": "text"
      },
      "source": [
        "<a href=\"https://colab.research.google.com/github/Mohinithakur/pythrill/blob/master/function.ipynb\" target=\"_parent\"><img src=\"https://colab.research.google.com/assets/colab-badge.svg\" alt=\"Open In Colab\"/></a>"
      ]
    },
    {
      "cell_type": "code",
      "metadata": {
        "id": "UcuokJrMCeWF",
        "colab_type": "code",
        "colab": {}
      },
      "source": [
        "def a():\n",
        "  print(\"hello\")\n",
        "  x=10\n",
        "  y=90\n",
        "  z=x+y\n",
        "  return z"
      ],
      "execution_count": 0,
      "outputs": []
    },
    {
      "cell_type": "code",
      "metadata": {
        "id": "7Yojqz66C07I",
        "colab_type": "code",
        "outputId": "7ccd198b-1357-4d0a-a578-ebc1468ef8f2",
        "colab": {
          "base_uri": "https://localhost:8080/",
          "height": 50
        }
      },
      "source": [
        "#to call function\n",
        "a()"
      ],
      "execution_count": 0,
      "outputs": [
        {
          "output_type": "stream",
          "text": [
            "hello\n"
          ],
          "name": "stdout"
        },
        {
          "output_type": "execute_result",
          "data": {
            "text/plain": [
              "100"
            ]
          },
          "metadata": {
            "tags": []
          },
          "execution_count": 6
        }
      ]
    },
    {
      "cell_type": "code",
      "metadata": {
        "id": "UfH9YNxQC-5e",
        "colab_type": "code",
        "colab": {}
      },
      "source": [
        "#function with arguments\n",
        "def add(x,y):\n",
        "  sum=x+y\n",
        "  return sum"
      ],
      "execution_count": 0,
      "outputs": []
    },
    {
      "cell_type": "code",
      "metadata": {
        "id": "-GqGRM2kDOja",
        "colab_type": "code",
        "outputId": "f1f0468a-1b1f-404f-bd49-90f44496a758",
        "colab": {
          "base_uri": "https://localhost:8080/",
          "height": 34
        }
      },
      "source": [
        "add(20,40)"
      ],
      "execution_count": 0,
      "outputs": [
        {
          "output_type": "execute_result",
          "data": {
            "text/plain": [
              "60"
            ]
          },
          "metadata": {
            "tags": []
          },
          "execution_count": 8
        }
      ]
    },
    {
      "cell_type": "code",
      "metadata": {
        "id": "j5xMBhuXDYEl",
        "colab_type": "code",
        "colab": {}
      },
      "source": [
        "#  static and dyanamic parameters\n",
        "\n",
        "def b(x,y=10):\n",
        "  sum=x+y\n",
        "  return sum"
      ],
      "execution_count": 0,
      "outputs": []
    },
    {
      "cell_type": "code",
      "metadata": {
        "id": "yStzL4lvD72q",
        "colab_type": "code",
        "outputId": "0aea6d40-3463-4776-ad5c-873b86f445e8",
        "colab": {
          "base_uri": "https://localhost:8080/",
          "height": 34
        }
      },
      "source": [
        "b(5)"
      ],
      "execution_count": 0,
      "outputs": [
        {
          "output_type": "execute_result",
          "data": {
            "text/plain": [
              "15"
            ]
          },
          "metadata": {
            "tags": []
          },
          "execution_count": 10
        }
      ]
    },
    {
      "cell_type": "code",
      "metadata": {
        "id": "AVS6CRY7D9qO",
        "colab_type": "code",
        "outputId": "049fd79c-673c-4120-9d64-dfc3570c79fb",
        "colab": {
          "base_uri": "https://localhost:8080/",
          "height": 34
        }
      },
      "source": [
        "# argument can be override\n",
        "b(20,60)"
      ],
      "execution_count": 0,
      "outputs": [
        {
          "output_type": "execute_result",
          "data": {
            "text/plain": [
              "80"
            ]
          },
          "metadata": {
            "tags": []
          },
          "execution_count": 12
        }
      ]
    },
    {
      "cell_type": "code",
      "metadata": {
        "id": "s6XDJcgiEH1d",
        "colab_type": "code",
        "colab": {}
      },
      "source": [
        "# function with dynamic argument val   *x will becom a tuple\n",
        "\n",
        "def sum(*x):\n",
        "  print (x)\n",
        "  print(type(x))\n",
        "  add = 0\n",
        "  for i in x:\n",
        "    add=add+i\n",
        "  return add\n",
        "\n",
        "#this print statement will not be printed\n",
        "  \n",
        "  print (\"hi\")"
      ],
      "execution_count": 0,
      "outputs": []
    },
    {
      "cell_type": "code",
      "metadata": {
        "id": "km4x9Q6kE-cp",
        "colab_type": "code",
        "outputId": "66309180-06aa-430a-b0d1-9b2fa0dd159b",
        "colab": {
          "base_uri": "https://localhost:8080/",
          "height": 67
        }
      },
      "source": [
        "sum(2,6)"
      ],
      "execution_count": 0,
      "outputs": [
        {
          "output_type": "stream",
          "text": [
            "(2, 6)\n",
            "<class 'tuple'>\n"
          ],
          "name": "stdout"
        },
        {
          "output_type": "execute_result",
          "data": {
            "text/plain": [
              "8"
            ]
          },
          "metadata": {
            "tags": []
          },
          "execution_count": 37
        }
      ]
    },
    {
      "cell_type": "code",
      "metadata": {
        "id": "b7tpD54YFIC9",
        "colab_type": "code",
        "colab": {}
      },
      "source": [
        "def output():\n",
        "    sum(2,6,8)"
      ],
      "execution_count": 0,
      "outputs": []
    },
    {
      "cell_type": "code",
      "metadata": {
        "id": "i3ak99aOGJV3",
        "colab_type": "code",
        "outputId": "2f4bab43-3cd9-4c74-9eb5-bfdfed2cbf0d",
        "colab": {
          "base_uri": "https://localhost:8080/",
          "height": 67
        }
      },
      "source": [
        "output()"
      ],
      "execution_count": 0,
      "outputs": [
        {
          "output_type": "stream",
          "text": [
            "(2, 6, 8)\n",
            "<class 'tuple'>\n",
            "16\n"
          ],
          "name": "stdout"
        }
      ]
    },
    {
      "cell_type": "code",
      "metadata": {
        "id": "nB3PyhzPGSPz",
        "colab_type": "code",
        "colab": {}
      },
      "source": [
        "import time\n",
        "\n",
        "def clear():\n",
        "  print(\"\\n\"*50)\n",
        "\n",
        "def sum(*x):\n",
        "  a=0\n",
        "  for i in x:\n",
        "    a=a+id\n",
        "    return a\n",
        "def notd():\n",
        "  print (\"hello\")"
      ],
      "execution_count": 0,
      "outputs": []
    },
    {
      "cell_type": "code",
      "metadata": {
        "id": "59zp7n8NHLzS",
        "colab_type": "code",
        "colab": {}
      },
      "source": [
        ""
      ],
      "execution_count": 0,
      "outputs": []
    }
  ]
}