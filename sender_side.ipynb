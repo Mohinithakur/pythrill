{
 "cells": [
  {
   "cell_type": "code",
   "execution_count": null,
   "metadata": {},
   "outputs": [
    {
     "name": "stdout",
     "output_type": "stream",
     "text": [
      "please enter ur msg: hello \n",
      "b'hello '\n",
      "(b'hi who is this', ('127.0.0.1', 1233))\n",
      "please enter ur msg: mohini thakur this side\n",
      "b'mohini thakur this side'\n",
      "(b'aditi priya this sied', ('127.0.0.1', 1233))\n",
      "please enter ur msg: where is devendra\n",
      "b'where is devendra'\n",
      "(b'devendra is busy with her phone', ('127.0.0.1', 1233))\n",
      "please enter ur msg: she laugh like a donkey\n",
      "b'she laugh like a donkey'\n",
      "(b'aditi laugh like a monkey', ('127.0.0.1', 1233))\n",
      "please enter ur msg: mohini act like stupid\n",
      "b'mohini act like stupid'\n",
      "(b'kamlesh singh i love you a lot', ('127.0.0.1', 1233))\n",
      "please enter ur msg: kamlesh singh i love u lot and u are a donkey\n",
      "b'kamlesh singh i love u lot and u are a donkey'\n",
      "(b'moooooootttttttttuuuuuuuuuuu', ('127.0.0.1', 1233))\n",
      "please enter ur msg: aditi ka  bhai pagal hai\n",
      "b'aditi ka  bhai pagal hai'\n",
      "(b'devendra', ('127.0.0.1', 1233))\n",
      "please enter ur msg: mohini\n",
      "b'mohini'\n",
      "(b'aditi', ('127.0.0.1', 1233))\n",
      "please enter ur msg: aditi\n",
      "b'aditi'\n"
     ]
    }
   ],
   "source": [
    "import socket,time,subprocess,pyttsx3\n",
    "target_ip = \"127.0.0.1\"     \n",
    "target_port = 1233\n",
    "\n",
    "#Now we are creating UDP socket -- this is  all sender & receiver both    ipv4 ,UDP\n",
    "\n",
    "s = socket.socket(socket.AF_INET,socket.SOCK_DGRAM)\n",
    "\n",
    "#this is sender side\n",
    "while True:\n",
    "    msg = input(\"please enter ur msg: \")\n",
    "#we have to encode string to byte like obj in python3 only\n",
    "\n",
    "    newmsg = msg.encode('ascii')\n",
    "    print(newmsg)\n",
    "\n",
    "    s.sendto(newmsg,(target_ip,target_port))\n",
    "    \n",
    "    client_data = s.recvfrom(100)\n",
    "    print(client_data)\n",
    "    #  now  converting to audio msg\n",
    "    audio1=pyttsx3.init()\n",
    "    audio1.say(client_data[0].decode('ascii'))\n",
    "    audio1.runAndWait()\n",
    "    time.sleep(1)"
   ]
  },
  {
   "cell_type": "code",
   "execution_count": null,
   "metadata": {},
   "outputs": [],
   "source": []
  },
  {
   "cell_type": "code",
   "execution_count": null,
   "metadata": {},
   "outputs": [],
   "source": []
  }
 ],
 "metadata": {
  "kernelspec": {
   "display_name": "Python 3",
   "language": "python",
   "name": "python3"
  }
 },
 "nbformat": 4,
 "nbformat_minor": 2
}
