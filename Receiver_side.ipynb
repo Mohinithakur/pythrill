{
 "cells": [
  {
   "cell_type": "code",
   "execution_count": null,
   "metadata": {},
   "outputs": [
    {
     "name": "stdout",
     "output_type": "stream",
     "text": [
      "(b'hello', ('127.0.0.1', 64296))\n",
      "@@@@#########@@@@@@@@@@@\n",
      "@@@                @@@@@\n",
      "@@@                @@@@@\n",
      "@@@@@@@@@@@@@@@@@@@@@@@@\n",
      "Now replying  :--- to  127.0.0.1\n",
      "(b'hello', ('127.0.0.1', 64296))\n",
      "@@@@#########@@@@@@@@@@@\n",
      "@@@                @@@@@\n",
      "@@@                @@@@@\n",
      "@@@@@@@@@@@@@@@@@@@@@@@@\n",
      "Now replying  :--- to  127.0.0.1\n"
     ]
    }
   ],
   "source": [
    "import   socket,time,subprocess,pyttsx3\n",
    "target_ip=\"127.0.0.1\"\n",
    "target_port=1233\n",
    "\n",
    "#  Now we are creating  UDP socket -- this is for all sender & receiver both\n",
    "#              ipv4        , UDP \n",
    "s=socket.socket(socket.AF_INET,socket.SOCK_DGRAM)\n",
    "\n",
    "#  this is only for receiver \n",
    "s.bind((target_ip,target_port)) \n",
    "while True:\n",
    "\tclient_data=s.recvfrom(255)\n",
    "\tprint(client_data)\n",
    "\t#  now  converting to audio msg\n",
    "\taudio1=pyttsx3.init()\n",
    "\taudio1.say(client_data[0].decode('ascii'))\n",
    "\taudio1.runAndWait()\n",
    "\ttime.sleep(1)\n",
    "\tprint(\"@@@@#########@@@@@@@@@@@\")\n",
    "\tprint(\"@@@                @@@@@\")\n",
    "\tprint(\"@@@                @@@@@\")\n",
    "\tprint(\"@@@@@@@@@@@@@@@@@@@@@@@@\")\n",
    "\tprint(\"Now replying  :--- to \",client_data[1][0])\n",
    "\ts.sendto(\"hii guys thanks for the message \".encode('ascii'),client_data[1])\n",
    "\t#  now saving  data for each client\n",
    "\tsubprocess.getoutput(\"touch  \"+client_data[1][0]+\".txt\")\n",
    "\twith open(client_data[1][0]+\".txt\",\"a\") as f:\n",
    "\t\tf.write(client_data[0].decode('ascii'))\n",
    "\t\n",
    "\n",
    "'''\n",
    "#  this is for senders \n",
    "msg=input(\"plz enter your message  :  \")\n",
    "#  we have to encode  string to byte like object in python3 only\n",
    "newmsg=msg.encode('ascii')\n",
    "print(newmsg)\n",
    "# now we can send to target \n",
    "s.sendto(newmsg,(target_ip,target_port))\n",
    "'''"
   ]
  },
  {
   "cell_type": "code",
   "execution_count": null,
   "metadata": {},
   "outputs": [],
   "source": []
  },
  {
   "cell_type": "code",
   "execution_count": null,
   "metadata": {},
   "outputs": [],
   "source": []
  }
 ],
 "metadata": {
  "kernelspec": {
   "display_name": "Python 3",
   "language": "python",
   "name": "python3"
  },
  "language_info": {
   "codemirror_mode": {
    "name": "ipython",
    "version": 3
   },
   "file_extension": ".py",
   "mimetype": "text/x-python",
   "name": "python",
   "nbconvert_exporter": "python",
   "pygments_lexer": "ipython3",
   "version": "3.7.3"
  }
 },
 "nbformat": 4,
 "nbformat_minor": 2
}
